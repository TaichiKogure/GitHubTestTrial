{
 "cells": [
  {
   "cell_type": "code",
   "execution_count": 4,
   "metadata": {
    "collapsed": false
   },
   "outputs": [],
   "source": [
    "import matplotlib.pyplot as plt\n",
    "import numpy as np\n",
    "import pandas as pd\n",
    "import tkinter\n",
    "from tkinter import *\n",
    "from tkinter.filedialog import askopenfilenames\n",
    "\n",
    "# フォルダの指定--------------------------------------------\n",
    "root = tkinter.Tk()\n",
    "root.withdraw()\n",
    "File_Link = askopenfilenames(\n",
    "    filetypes=((\"All files\", \"*.*\"), (\"HTML files\", \"*.html;*.htm\"), (\"out files\", \"*.out\")))  # ファイルを選択\n",
    "Length_Link = len(File_Link)  # ファイルの長さを計算\n",
    "# -----------------------------------------------------------\n",
    "DATA = []\n",
    "df_S1S2 = []\n",
    "df_S1 = []\n",
    "df_S2 = []\n",
    "df_S3 = []#空っぽ定義\n",
    "# 繰り返す---------------------------------------------------\n",
    "for i in range(Length_Link):\n",
    "    df = pd.read_fwf(File_Link[i])  # ファイルの読み込み"
   ]
  },
  {
   "cell_type": "code",
   "execution_count": null,
   "metadata": {},
   "outputs": [],
   "source": []
  }
 ],
 "metadata": {
  "kernelspec": {
   "display_name": "Python 2",
   "language": "python",
   "name": "python2"
  },
  "language_info": {
   "codemirror_mode": {
    "name": "ipython",
    "version": 2
   },
   "file_extension": ".py",
   "mimetype": "text/x-python",
   "name": "python",
   "nbconvert_exporter": "python",
   "pygments_lexer": "ipython2",
   "version": "2.7.6"
  }
 },
 "nbformat": 4,
 "nbformat_minor": 0
}
