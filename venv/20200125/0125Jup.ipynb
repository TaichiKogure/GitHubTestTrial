{
 "cells": [
  {
   "cell_type": "code",
   "execution_count": 1,
   "metadata": {
    "collapsed": true,
    "pycharm": {
     "is_executing": false
    }
   },
   "outputs": [],
   "source": [
    "import numpy as np\n",
    "import pandas as pd\n",
    "import matplotlib.pyplot as plt\n",
    "\n",
    "a = 100\n",
    "b = 200\n",
    "c1= np.array([10,20,30])\n",
    "c2 = np.array([10,20,30])\n",
    "d = c2 * c1\n"
   ]
  },
  {
   "cell_type": "code",
   "execution_count": 2,
   "outputs": [
    {
     "data": {
      "text/plain": "array([ 10100, 160400, 810900])"
     },
     "metadata": {},
     "output_type": "execute_result",
     "execution_count": 2
    }
   ],
   "source": [
    "d+d*d"
   ],
   "metadata": {
    "collapsed": false,
    "pycharm": {
     "name": "#%%\n",
     "is_executing": false
    }
   }
  },
  {
   "cell_type": "code",
   "execution_count": 3,
   "outputs": [],
   "source": [],
   "metadata": {
    "collapsed": false,
    "pycharm": {
     "name": "#%%\n",
     "is_executing": false
    }
   }
  },
  {
   "cell_type": "markdown",
   "source": [
    "ここはマークダウンです。\n",
    "ScientificModeとうまく組み合わせると便利\n",
    "Pygame Zero"
   ],
   "metadata": {
    "collapsed": false,
    "pycharm": {
     "name": "#%% md\n"
    }
   }
  },
  {
   "cell_type": "code",
   "execution_count": 1,
   "outputs": [
    {
     "name": "stdout",
     "text": [
      "pygame 1.9.6\n",
      "Hello from the pygame community. https://www.pygame.org/contribute.html\n"
     ],
     "output_type": "stream"
    },
    {
     "traceback": [
      "An exception has occurred, use %tb to see the full traceback.\n",
      "\u001b[1;31mSystemExit\u001b[0m\n"
     ],
     "ename": "SystemExit",
     "evalue": "",
     "output_type": "error"
    },
    {
     "name": "stderr",
     "text": [
      "C:\\Users\\auror\\Anaconda3\\lib\\site-packages\\IPython\\core\\interactiveshell.py:3333: UserWarning: To exit: use 'exit', 'quit', or Ctrl-D.\n",
      "  warn(\"To exit: use 'exit', 'quit', or Ctrl-D.\", stacklevel=1)\n"
     ],
     "output_type": "stream"
    }
   ],
   "source": [
    "# 参考　http://aidiary.hatenablog.com/entry/20080505/1275695237\n",
    "import pygame\n",
    "from pygame.locals import *\n",
    "import sys\n",
    "\n",
    "SCREEN_SIZE = (640, 480)\n",
    "\n",
    "pygame.init()\n",
    "screen = pygame.display.set_mode(SCREEN_SIZE)\n",
    "pygame.display.set_caption(u\"図形の描画\")\n",
    "\n",
    "while True:\n",
    "    screen.fill((0, 0, 0))\n",
    "\n",
    "    # 図形を描画\n",
    "    # 黄の矩形\n",
    "    pygame.draw.rect(screen, (255, 255, 0), Rect(10, 10, 300, 200))\n",
    "    # 赤の円\n",
    "    pygame.draw.circle(screen, (255, 0, 0), (320, 240), 100)\n",
    "    # 紫の楕円\n",
    "    pygame.draw.ellipse(screen, (255, 0, 255), (400, 300, 200, 100))\n",
    "    # 白い線\n",
    "    pygame.draw.line(screen, (255, 255, 255), (0, 0), (640, 480))\n",
    "\n",
    "    pygame.display.update()\n",
    "    for event in pygame.event.get():\n",
    "        if event.type == QUIT:\n",
    "            sys.exit()\n"
   ],
   "metadata": {
    "collapsed": false,
    "pycharm": {
     "name": "#%%\n",
     "is_executing": false
    }
   }
  }
 ],
 "metadata": {
  "kernelspec": {
   "display_name": "Python 3",
   "language": "python",
   "name": "python3"
  },
  "language_info": {
   "codemirror_mode": {
    "name": "ipython",
    "version": 2
   },
   "file_extension": ".py",
   "mimetype": "text/x-python",
   "name": "python",
   "nbconvert_exporter": "python",
   "pygments_lexer": "ipython2",
   "version": "2.7.6"
  },
  "pycharm": {
   "stem_cell": {
    "cell_type": "raw",
    "source": [],
    "metadata": {
     "collapsed": false
    }
   }
  }
 },
 "nbformat": 4,
 "nbformat_minor": 0
}
