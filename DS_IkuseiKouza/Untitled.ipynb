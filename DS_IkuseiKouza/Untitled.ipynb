{
 "cells": [
  {
   "cell_type": "code",
   "execution_count": 1,
   "metadata": {},
   "outputs": [
    {
     "name": "stdout",
     "output_type": "stream",
     "text": [
      "helloworld\n"
     ]
    }
   ],
   "source": [
    "print('helloworld')"
   ]
  },
  {
   "cell_type": "code",
   "execution_count": 3,
   "metadata": {},
   "outputs": [
    {
     "data": {
      "image/png": "[encoded data removed]",
      "text/plain": [
       "<Figure size 432x288 with 3 Axes>"
      ]
     },
     "metadata": {
      "needs_background": "light"
     },
     "output_type": "display_data"
    }
   ],
   "source": [
    "import random\n",
    "import numpy as np\n",
    "import matplotlib as mpl\n",
    "import seaborn as sns\n",
    "import pandas as pd\n",
    "import matplotlib.pyplot as plt\n",
    "import requests, zipfile\n",
    "from io import StringIO\n",
    "import io\n",
    "from pandas import Series, DataFrame\n",
    "\n",
    "# 一様分布でさいころを1000回振ってみる\n",
    "dice_data = np.array([1,2,3,4,5,6])\n",
    "calc_steps = 10\n",
    "\n",
    "# 1-6dataのなかから1000回の抽出を実施\n",
    "dice_rolls = np.random.choice(dice_data, calc_steps)\n",
    "\n",
    "#それぞれの数字がどれくらいの割合で抽出されたか計算\n",
    "prob_data = np.array([])\n",
    "for i in range(1,7):\n",
    "    p = len(dice_rolls[dice_rolls==i])/ calc_steps\n",
    "    prob_data = np.append(prob_data, len(dice_rolls[dice_rolls==i]) / calc_steps)\n",
    "\n",
    "plt.subplot(2,2,1)\n",
    "plt.bar(dice_data,prob_data)\n",
    "plt.grid(True)\n",
    "\n",
    "# 二項分布\n",
    "np.random.seed(0)\n",
    "\n",
    "x = np.random.binomial(30,0.5,10000)\n",
    "plt.subplot(2,2,2)\n",
    "plt.hist(x)\n",
    "\n",
    "plt.grid(True)\n",
    "\n",
    "# パラメータ変えてみる\n",
    "x = np.random.binomial(30,0.1,10000)\n",
    "plt.subplot(2,2,3)\n",
    "plt.hist(x)\n",
    "\n",
    "plt.grid(True)\n"
   ]
  },
  {
   "cell_type": "code",
   "execution_count": null,
   "metadata": {},
   "outputs": [],
   "source": []
  }
 ],
 "metadata": {
  "kernelspec": {
   "display_name": "Python 3",
   "language": "python",
   "name": "python3"
  },
  "language_info": {
   "codemirror_mode": {
    "name": "ipython",
    "version": 3
   },
   "file_extension": ".py",
   "mimetype": "text/x-python",
   "name": "python",
   "nbconvert_exporter": "python",
   "pygments_lexer": "ipython3",
   "version": "3.7.3"
  }
 },
 "nbformat": 4,
 "nbformat_minor": 4
}
