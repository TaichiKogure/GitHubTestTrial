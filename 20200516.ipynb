{
  "nbformat": 4,
  "nbformat_minor": 0,
  "metadata": {
    "colab": {
      "name": "20200516.ipynb",
      "provenance": [],
      "authorship_tag": "ABX9TyNLYAH7gzE5Ll+RWOgZH7uQ",
      "include_colab_link": true
    },
    "kernelspec": {
      "name": "python3",
      "display_name": "Python 3"
    }
  },
  "cells": [
    {
      "cell_type": "markdown",
      "metadata": {
        "id": "view-in-github",
        "colab_type": "text"
      },
      "source": [
        "<a href=\"https://colab.research.google.com/github/TaichiKogure/GitHubTestTrial/blob/master/20200516.ipynb\" target=\"_parent\"><img src=\"https://colab.research.google.com/assets/colab-badge.svg\" alt=\"Open In Colab\"/></a>"
      ]
    },
    {
      "cell_type": "code",
      "metadata": {
        "id": "v0OTpSG7qD3W",
        "colab_type": "code",
        "colab": {
          "base_uri": "https://localhost:8080/",
          "height": 51
        },
        "outputId": "49a001e7-d510-48ba-eeea-1832f0cd03df"
      },
      "source": [
        "import time\n",
        "import numpy as np\n",
        "\n",
        "start = time.time()\n",
        "\n",
        "data = np.random.rand(5000)\n",
        "sum = 0\n",
        "\n",
        "for i in range(len(data)):\n",
        "    for j in range(len(data)):\n",
        "        sum += data[j]\n",
        "\n",
        "elapsed_time = time.time() - start\n",
        "print(elapsed_time)\n",
        "print(sum)"
      ],
      "execution_count": 10,
      "outputs": [
        {
          "output_type": "stream",
          "text": [
            "7.349900722503662\n",
            "12318571.429391915\n"
          ],
          "name": "stdout"
        }
      ]
    },
    {
      "cell_type": "code",
      "metadata": {
        "id": "diwYz3AGrbj2",
        "colab_type": "code",
        "colab": {
          "base_uri": "https://localhost:8080/",
          "height": 51
        },
        "outputId": "21b767e5-cccf-470b-f50f-c56439aacac7"
      },
      "source": [
        "import time\n",
        "import numpy as np\n",
        "\n",
        "\n",
        "def main():\n",
        "    data = np.random.rand(5000)\n",
        "    sum = 0\n",
        "\n",
        "    for i in range(len(data)):\n",
        "        for j in range(len(data)):\n",
        "            sum += data[j]\n",
        "    return 0\n",
        "\n",
        "\n",
        "start = time.time()\n",
        "main()\n",
        "elapsed_time = time.time() - start\n",
        "print(elapsed_time)\n",
        "print(sum)"
      ],
      "execution_count": 9,
      "outputs": [
        {
          "output_type": "stream",
          "text": [
            "5.696608543395996\n",
            "20.43112429303326\n"
          ],
          "name": "stdout"
        }
      ]
    }
  ]
}